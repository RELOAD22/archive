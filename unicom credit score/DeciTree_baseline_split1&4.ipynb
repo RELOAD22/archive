{
 "cells": [
  {
   "cell_type": "code",
   "execution_count": 1,
   "metadata": {},
   "outputs": [],
   "source": [
    "import numpy as np\n",
    "import matplotlib.pyplot as plt\n",
    "from sklearn import neighbors\n",
    "import csv\n",
    "import json\n",
    "import os"
   ]
  },
  {
   "cell_type": "markdown",
   "metadata": {},
   "source": [
    "**读入预处理好的数据**"
   ]
  },
  {
   "cell_type": "code",
   "execution_count": 2,
   "metadata": {},
   "outputs": [
    {
     "name": "stdout",
     "output_type": "stream",
     "text": [
      "[1.00000000e+00 0.00000000e+00 1.80000000e+01 5.04000000e+01\n",
      " 1.08200000e+02 1.18900000e+02 1.77700000e+02 3.00000000e+02\n",
      " 1.00000000e+00 0.00000000e+00 0.00000000e+00 0.00000000e+00\n",
      " 4.00000000e+00 2.00000000e+00 6.00000000e+01 0.00000000e+00\n",
      " 2.63908486e+03 3.77833333e+01 3.77833333e+01 0.00000000e+00\n",
      " 1.00000000e+00 1.90000000e+01 0.00000000e+00 0.00000000e+00\n",
      " 0.00000000e+00]\n",
      "012pSke7DsCrR985\n"
     ]
    }
   ],
   "source": [
    "# 从文件load到numpy array\n",
    "# 读入service_type==1的训练数据\n",
    "x_train_1 = np.load('preprocessed/x_train_1.npy')\n",
    "x_validation_1 = np.load('preprocessed/x_validation_1.npy')\n",
    "y_train_1 = np.load('preprocessed/y_train_1.npy')\n",
    "y_validation_1 = np.load('preprocessed/y_validation_1.npy')\n",
    "# 读入service_type==4的训练数据\n",
    "x_train_4 = np.load('preprocessed/x_train_4.npy')\n",
    "x_validation_4 = np.load('preprocessed/x_validation_4.npy')\n",
    "y_train_4 = np.load('preprocessed/y_train_4.npy')\n",
    "y_validation_4 = np.load('preprocessed/y_validation_4.npy')\n",
    "# 读入测试数据\n",
    "x_test = np.load('preprocessed/x_test.npy')\n",
    "id_test = np.load('preprocessed/id_test.npy')\n",
    "\n",
    "print(x_test[0])\n",
    "print(id_test[0])\n"
   ]
  },
  {
   "cell_type": "markdown",
   "metadata": {},
   "source": [
    "**模型训练**"
   ]
  },
  {
   "cell_type": "code",
   "execution_count": 3,
   "metadata": {},
   "outputs": [
    {
     "name": "stdout",
     "output_type": "stream",
     "text": [
      "estimator_1 finished\n",
      "fit_1 finished\n",
      "service_type==1 validation acc: 0.9902552649486155\n",
      "estimator_4 finished\n",
      "fit_4 finished\n",
      "service_type==4 validation acc: 0.824547329818932\n"
     ]
    }
   ],
   "source": [
    "# 然后导入决策树类，并为其初始化2个实例。\n",
    "from sklearn import tree\n",
    "\n",
    "# 创建service_type==1的估计器\n",
    "estimator_1 = tree.DecisionTreeClassifier()\n",
    "print('estimator_1 finished')\n",
    "# 创建好之后，开始用训练数据进行训练。\n",
    "estimator_1.fit(x_train_1, y_train_1)\n",
    "print('fit_1 finished')\n",
    "# 在验证集service_type==1上的准确率\n",
    "score_1 = estimator_1.score(x_validation_1,y_validation_1)\n",
    "print('service_type==1 validation acc: '+str(score_1))\n",
    "\n",
    "# 创建service_type==4的估计器\n",
    "estimator_4 = tree.DecisionTreeClassifier()\n",
    "print('estimator_4 finished')\n",
    "# 创建好之后，开始用训练数据进行训练。\n",
    "estimator_4.fit(x_train_4, y_train_4)\n",
    "print('fit_4 finished')\n",
    "# 在验证集service_type==4上的准确率\n",
    "score_4 = estimator_4.score(x_validation_4,y_validation_4)\n",
    "print('service_type==4 validation acc: '+str(score_4))"
   ]
  },
  {
   "cell_type": "markdown",
   "metadata": {},
   "source": [
    "**模型验证**"
   ]
  },
  {
   "cell_type": "code",
   "execution_count": 4,
   "metadata": {},
   "outputs": [
    {
     "name": "stdout",
     "output_type": "stream",
     "text": [
      "whole validation acc: 0.9019127063002004\n"
     ]
    }
   ],
   "source": [
    "#在整个验集上的准确率\n",
    "acc = score_1*len(x_validation_1)\n",
    "acc += score_4*len(x_validation_4)\n",
    "acc /= (len(x_validation_1)+len(x_validation_4))\n",
    "print('whole validation acc: '+str(acc))"
   ]
  },
  {
   "cell_type": "markdown",
   "metadata": {},
   "source": [
    "**模型测试**"
   ]
  },
  {
   "cell_type": "code",
   "execution_count": 5,
   "metadata": {},
   "outputs": [
    {
     "name": "stdout",
     "output_type": "stream",
     "text": [
      "predict finished\n"
     ]
    },
    {
     "data": {
      "text/plain": [
       "90063345"
      ]
     },
     "execution_count": 5,
     "metadata": {},
     "output_type": "execute_result"
    }
   ],
   "source": [
    "# 接着用测试集测试算法。\n",
    "y_predicted = []\n",
    "for i,query in enumerate(x_test):\n",
    "    if query[0] == 4:\n",
    "        y_predicted.append(np.int64(estimator_4.predict([query[1:]])))\n",
    "    else:\n",
    "        # 测试集中的service_type除了1或4还存在3\n",
    "        y_predicted.append(np.int64(estimator_1.predict([query[1:]])))\n",
    "\n",
    "print('predict finished')\n",
    "y_predicted[0]"
   ]
  },
  {
   "cell_type": "code",
   "execution_count": 6,
   "metadata": {},
   "outputs": [],
   "source": [
    "header = [('user_id','current_service')]\n",
    "\n",
    "with open('deci_submission.csv', 'w') as f:\n",
    "    writer = csv.writer(f,lineterminator='\\n')\n",
    "    writer.writerows(header)\n",
    "    for i in range(len(x_test)):\n",
    "        writer.writerows([(id_test[i],y_predicted[i])])\n",
    "    f.close()"
   ]
  },
  {
   "cell_type": "code",
   "execution_count": 7,
   "metadata": {},
   "outputs": [],
   "source": [
    "# 保存成python支持的文件格式pickle\n",
    "import pickle\n",
    "with open('deci_1.pickle', 'wb') as fw:\n",
    "    pickle.dump(estimator_1, fw)\n",
    "with open('deci_4.pickle', 'wb') as fw:\n",
    "    pickle.dump(estimator_4, fw)\n",
    "    \n",
    "## 如需加载.pickle\n",
    "#with open('deci.pickle', 'rb') as fr:\n",
    "#    new_estimator = pickle.load(fr)\n",
    "#    print new_estimator.predict(x_test)"
   ]
  },
  {
   "cell_type": "code",
   "execution_count": null,
   "metadata": {},
   "outputs": [],
   "source": []
  }
 ],
 "metadata": {
  "kernelspec": {
   "display_name": "Python 2",
   "language": "python",
   "name": "python2"
  },
  "language_info": {
   "codemirror_mode": {
    "name": "ipython",
    "version": 2
   },
   "file_extension": ".py",
   "mimetype": "text/x-python",
   "name": "python",
   "nbconvert_exporter": "python",
   "pygments_lexer": "ipython2",
   "version": "2.7.15"
  }
 },
 "nbformat": 4,
 "nbformat_minor": 2
}
